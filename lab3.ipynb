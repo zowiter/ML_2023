{
  "cells": [
    {
      "cell_type": "code",
      "execution_count": null,
      "id": "00c1b23d",
      "metadata": {
        "id": "00c1b23d",
        "outputId": "bee5b3c1-6bb9-459c-e465-6c782b7ac88d"
      },
      "outputs": [
        {
          "name": "stdout",
          "output_type": "stream",
          "text": [
            "Requirement already satisfied: opencv-python in c:\\users\\eveli\\appdata\\local\\programs\\python\\python37\\lib\\site-packages (4.7.0.72)\n",
            "Requirement already satisfied: numpy>=1.17.0 in c:\\users\\eveli\\appdata\\local\\programs\\python\\python37\\lib\\site-packages (from opencv-python) (1.21.6)\n"
          ]
        }
      ],
      "source": [
        "!pip3 install -U opencv-python"
      ]
    },
    {
      "cell_type": "code",
      "execution_count": null,
      "id": "a633db34",
      "metadata": {
        "id": "a633db34"
      },
      "outputs": [],
      "source": [
        "import numpy as np\n",
        "import cv2\n",
        "from matplotlib import pyplot as plt"
      ]
    },
    {
      "cell_type": "code",
      "execution_count": null,
      "id": "d6ebe474",
      "metadata": {
        "id": "d6ebe474"
      },
      "outputs": [],
      "source": [
        "cap = cv2.VideoCapture(0)\n",
        "kernel = cv2.getStructuringElement(cv2.MORPH_ELLIPSE,(3,3))\n",
        "fgbg = cv2.createBackgroundSubtractorKNN()\n",
        "#createBackgroundSubtractorGMG()\n",
        "while(1):\n",
        "    ret, frame1 = cap.read()\n",
        "    ret, frame2 = cap.read()\n",
        "    if not ret:\n",
        "        print(\"problem\")\n",
        "        continue\n",
        "    gray = cv2.cvtColor(frame1, cv2.COLOR_BGR2GRAY)\n",
        "    fgmask = fgbg.apply(frame1)\n",
        "    fgmask = cv2.morphologyEx(fgmask, cv2.MORPH_OPEN, kernel)\n",
        "    # Вместо маски будем показывать исходное видео в оттенках серого.\n",
        "    gray2 = np.where(fgmask==255, gray, np.zeros(gray.shape, np.uint8))\n",
        "    # Поиск движущихся объектов\n",
        "    diff = cv2.absdiff(frame1, frame2) #абсолютная разница между элементами матриц\n",
        "    gray = cv2.cvtColor(diff, cv2.COLOR_BGR2GRAY) #конвертация из RGB в оттенки серого\n",
        "    blur = cv2.GaussianBlur(gray, (5, 5), 0) #размытие картинки в оттенках серого\n",
        "\n",
        "    dilated = cv2.dilate(blur, None, iterations=3)\n",
        "    _ , thresh = cv2.threshold(dilated, 20, 255, cv2.THRESH_BINARY)\n",
        "\n",
        "    cntrs, _ = cv2.findContours(thresh, cv2.RETR_TREE, cv2.CHAIN_APPROX_SIMPLE)\n",
        "    for cntr in cntrs:\n",
        "        if cv2.contourArea(cntr) < 500:\n",
        "            continue\n",
        "        (x, y, w, h) = cv2.boundingRect(cntr)\n",
        "        cv2.rectangle(frame1, (x, y), (x + w, y + h), (0, 255, 0), 2) #frame1\n",
        "    cv2.imshow('frame', gray2)\n",
        "    cv2.imshow('original', frame1)\n",
        "    if cv2.waitKey(1) & 0xff == 27:\n",
        "        break\n",
        "cap.release()\n",
        "cv2.destroyAllWindows()"
      ]
    },
    {
      "cell_type": "code",
      "execution_count": null,
      "id": "45266fd3",
      "metadata": {
        "id": "45266fd3"
      },
      "outputs": [],
      "source": [
        "cap = cv2.VideoCapture(0)\n",
        "# Ядро для свертки изображения.\n",
        "kernel = cv2.getStructuringElement(cv2.MORPH_ELLIPSE,(3,3))\n",
        "fgbg = cv2.createBackgroundSubtractorKNN()\n",
        "#fgbg = cv2.createBackgroundSubtractorGMG()\n",
        "cntr = 0\n",
        "\n",
        "while(1):\n",
        "    cntr += 1\n",
        "    if cntr == 100:\n",
        "        fgbg = cv2.createBackgroundSubtractorKNN()\n",
        "        cntr = 0\n",
        "\n",
        "    ret, frame = cap.read()\n",
        "    # Получаем маску, ...\n",
        "    fgmask = fgbg.apply(frame)\n",
        "    # ... сворачиваем ее и отображаем.\n",
        "    fgmask = cv2.morphologyEx(fgmask, cv2.MORPH_OPEN, kernel)\n",
        "    cv2.imshow('frame', fgmask)\n",
        "    if cv2.waitKey(3) & 0xff == 27:\n",
        "        break\n",
        "cap.release()\n",
        "cv2.destroyAllWindows()"
      ]
    },
    {
      "cell_type": "code",
      "execution_count": null,
      "id": "2209429c",
      "metadata": {
        "id": "2209429c"
      },
      "outputs": [],
      "source": []
    }
  ],
  "metadata": {
    "kernelspec": {
      "display_name": "Python 3 (ipykernel)",
      "language": "python",
      "name": "python3"
    },
    "language_info": {
      "codemirror_mode": {
        "name": "ipython",
        "version": 3
      },
      "file_extension": ".py",
      "mimetype": "text/x-python",
      "name": "python",
      "nbconvert_exporter": "python",
      "pygments_lexer": "ipython3",
      "version": "3.7.0"
    },
    "colab": {
      "provenance": []
    }
  },
  "nbformat": 4,
  "nbformat_minor": 5
}