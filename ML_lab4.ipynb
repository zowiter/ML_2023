{
  "nbformat": 4,
  "nbformat_minor": 0,
  "metadata": {
    "colab": {
      "provenance": []
    },
    "kernelspec": {
      "name": "python3",
      "display_name": "Python 3"
    },
    "language_info": {
      "name": "python"
    }
  },
  "cells": [
    {
      "cell_type": "markdown",
      "source": [
        "Задание 1"
      ],
      "metadata": {
        "id": "jyhLC637zyNA"
      }
    },
    {
      "cell_type": "code",
      "execution_count": null,
      "metadata": {
        "colab": {
          "base_uri": "https://localhost:8080/"
        },
        "id": "VVJO9zR8hRtH",
        "outputId": "23971488-f284-48c6-87e4-3e371c4424ca"
      },
      "outputs": [
        {
          "output_type": "stream",
          "name": "stdout",
          "text": [
            "Looking in indexes: https://pypi.org/simple, https://us-python.pkg.dev/colab-wheels/public/simple/\n",
            "Collecting vosk\n",
            "  Downloading vosk-0.3.45-py3-none-manylinux_2_12_x86_64.manylinux2010_x86_64.whl (7.2 MB)\n",
            "\u001b[2K     \u001b[90m━━━━━━━━━━━━━━━━━━━━━━━━━━━━━━━━━━━━━━━━\u001b[0m \u001b[32m7.2/7.2 MB\u001b[0m \u001b[31m22.5 MB/s\u001b[0m eta \u001b[36m0:00:00\u001b[0m\n",
            "\u001b[?25hRequirement already satisfied: cffi>=1.0 in /usr/local/lib/python3.10/dist-packages (from vosk) (1.15.1)\n",
            "Requirement already satisfied: requests in /usr/local/lib/python3.10/dist-packages (from vosk) (2.27.1)\n",
            "Requirement already satisfied: tqdm in /usr/local/lib/python3.10/dist-packages (from vosk) (4.65.0)\n",
            "Collecting srt (from vosk)\n",
            "  Downloading srt-3.5.3.tar.gz (28 kB)\n",
            "  Preparing metadata (setup.py) ... \u001b[?25l\u001b[?25hdone\n",
            "Collecting websockets (from vosk)\n",
            "  Downloading websockets-11.0.3-cp310-cp310-manylinux_2_5_x86_64.manylinux1_x86_64.manylinux_2_17_x86_64.manylinux2014_x86_64.whl (129 kB)\n",
            "\u001b[2K     \u001b[90m━━━━━━━━━━━━━━━━━━━━━━━━━━━━━━━━━━━━━━\u001b[0m \u001b[32m129.9/129.9 kB\u001b[0m \u001b[31m13.9 MB/s\u001b[0m eta \u001b[36m0:00:00\u001b[0m\n",
            "\u001b[?25hRequirement already satisfied: pycparser in /usr/local/lib/python3.10/dist-packages (from cffi>=1.0->vosk) (2.21)\n",
            "Requirement already satisfied: urllib3<1.27,>=1.21.1 in /usr/local/lib/python3.10/dist-packages (from requests->vosk) (1.26.15)\n",
            "Requirement already satisfied: certifi>=2017.4.17 in /usr/local/lib/python3.10/dist-packages (from requests->vosk) (2022.12.7)\n",
            "Requirement already satisfied: charset-normalizer~=2.0.0 in /usr/local/lib/python3.10/dist-packages (from requests->vosk) (2.0.12)\n",
            "Requirement already satisfied: idna<4,>=2.5 in /usr/local/lib/python3.10/dist-packages (from requests->vosk) (3.4)\n",
            "Building wheels for collected packages: srt\n",
            "  Building wheel for srt (setup.py) ... \u001b[?25l\u001b[?25hdone\n",
            "  Created wheel for srt: filename=srt-3.5.3-py3-none-any.whl size=22428 sha256=eeb06c736f374cc2abe086df3a555921501345fa6158939891e5f275dba8685f\n",
            "  Stored in directory: /root/.cache/pip/wheels/d7/31/a1/18e1e7e8bfdafd19e6803d7eb919b563dd11de380e4304e332\n",
            "Successfully built srt\n",
            "Installing collected packages: websockets, srt, vosk\n",
            "Successfully installed srt-3.5.3 vosk-0.3.45 websockets-11.0.3\n"
          ]
        }
      ],
      "source": [
        "!pip install vosk"
      ]
    },
    {
      "cell_type": "code",
      "source": [
        "from vosk import Model, KaldiRecognizer\n",
        "import sys\n",
        "import json\n",
        "import os\n",
        "import time\n",
        "import wave\n",
        "import re"
      ],
      "metadata": {
        "id": "PqIas1MhmymD"
      },
      "execution_count": null,
      "outputs": []
    },
    {
      "cell_type": "code",
      "source": [
        "from google.colab import drive\n",
        "drive.mount('/content/drive')\n",
        "workdir = 'drive/MyDrive/colab_data/speech'\n",
        "mp3_file_name = \"audio.mp3\"\n",
        "inputfile =  mp3_file_name"
      ],
      "metadata": {
        "colab": {
          "base_uri": "https://localhost:8080/"
        },
        "id": "-99rfh92m91F",
        "outputId": "9a88b3ce-69e6-4f3b-cace-73954d46b170"
      },
      "execution_count": null,
      "outputs": [
        {
          "output_type": "stream",
          "name": "stdout",
          "text": [
            "Mounted at /content/drive\n"
          ]
        }
      ]
    },
    {
      "cell_type": "code",
      "source": [
        "wavfile = inputfile + '.wav'\n",
        "!ffmpeg -y -i $inputfile -ar 48000 -ac 1 -f wav $wavfile"
      ],
      "metadata": {
        "colab": {
          "base_uri": "https://localhost:8080/"
        },
        "id": "8jfKMepRuke3",
        "outputId": "c5c06a58-738e-4e5c-9548-cdbf521f099b"
      },
      "execution_count": null,
      "outputs": [
        {
          "output_type": "stream",
          "name": "stdout",
          "text": [
            "ffmpeg version 4.2.7-0ubuntu0.1 Copyright (c) 2000-2022 the FFmpeg developers\n",
            "  built with gcc 9 (Ubuntu 9.4.0-1ubuntu1~20.04.1)\n",
            "  configuration: --prefix=/usr --extra-version=0ubuntu0.1 --toolchain=hardened --libdir=/usr/lib/x86_64-linux-gnu --incdir=/usr/include/x86_64-linux-gnu --arch=amd64 --enable-gpl --disable-stripping --enable-avresample --disable-filter=resample --enable-avisynth --enable-gnutls --enable-ladspa --enable-libaom --enable-libass --enable-libbluray --enable-libbs2b --enable-libcaca --enable-libcdio --enable-libcodec2 --enable-libflite --enable-libfontconfig --enable-libfreetype --enable-libfribidi --enable-libgme --enable-libgsm --enable-libjack --enable-libmp3lame --enable-libmysofa --enable-libopenjpeg --enable-libopenmpt --enable-libopus --enable-libpulse --enable-librsvg --enable-librubberband --enable-libshine --enable-libsnappy --enable-libsoxr --enable-libspeex --enable-libssh --enable-libtheora --enable-libtwolame --enable-libvidstab --enable-libvorbis --enable-libvpx --enable-libwavpack --enable-libwebp --enable-libx265 --enable-libxml2 --enable-libxvid --enable-libzmq --enable-libzvbi --enable-lv2 --enable-omx --enable-openal --enable-opencl --enable-opengl --enable-sdl2 --enable-libdc1394 --enable-libdrm --enable-libiec61883 --enable-nvenc --enable-chromaprint --enable-frei0r --enable-libx264 --enable-shared\n",
            "  libavutil      56. 31.100 / 56. 31.100\n",
            "  libavcodec     58. 54.100 / 58. 54.100\n",
            "  libavformat    58. 29.100 / 58. 29.100\n",
            "  libavdevice    58.  8.100 / 58.  8.100\n",
            "  libavfilter     7. 57.100 /  7. 57.100\n",
            "  libavresample   4.  0.  0 /  4.  0.  0\n",
            "  libswscale      5.  5.100 /  5.  5.100\n",
            "  libswresample   3.  5.100 /  3.  5.100\n",
            "  libpostproc    55.  5.100 / 55.  5.100\n",
            "Input #0, mp3, from 'audio.mp3':\n",
            "  Metadata:\n",
            "    major_brand     : mp42\n",
            "    minor_version   : 0\n",
            "    compatible_brands: isommp42\n",
            "    encoder         : Lavf58.76.100\n",
            "  Duration: 00:01:30.28, start: 0.025057, bitrate: 320 kb/s\n",
            "    Stream #0:0: Audio: mp3, 44100 Hz, stereo, fltp, 320 kb/s\n",
            "    Metadata:\n",
            "      encoder         : Lavc58.13\n",
            "Stream mapping:\n",
            "  Stream #0:0 -> #0:0 (mp3 (mp3float) -> pcm_s16le (native))\n",
            "Press [q] to stop, [?] for help\n",
            "Output #0, wav, to 'audio.mp3.wav':\n",
            "  Metadata:\n",
            "    major_brand     : mp42\n",
            "    minor_version   : 0\n",
            "    compatible_brands: isommp42\n",
            "    ISFT            : Lavf58.29.100\n",
            "    Stream #0:0: Audio: pcm_s16le ([1][0][0][0] / 0x0001), 48000 Hz, mono, s16, 768 kb/s\n",
            "    Metadata:\n",
            "      encoder         : Lavc58.54.100 pcm_s16le\n",
            "size=    8460kB time=00:01:30.24 bitrate= 768.0kbits/s speed= 232x    \n",
            "video:0kB audio:8460kB subtitle:0kB other streams:0kB global headers:0kB muxing overhead: 0.000900%\n"
          ]
        }
      ]
    },
    {
      "cell_type": "code",
      "source": [
        "model = Model(workdir + \"/vosk-model-small-ru-0.22/vosk-model-small-ru-0.22\")"
      ],
      "metadata": {
        "id": "6zEu3doMxaD5"
      },
      "execution_count": null,
      "outputs": []
    },
    {
      "cell_type": "code",
      "source": [
        "wf = wave.open(wavfile, \"rb\")\n",
        "rcgn_fr = wf.getframerate() * wf.getnchannels()\n",
        "rec = KaldiRecognizer(model, rcgn_fr)\n",
        "result = ''\n",
        "last_n = False\n",
        "#read_block_size = 4000\n",
        "read_block_size = wf.getnframes()\n",
        "while True: #Можно читать файл блоками, тогда можно выводить распознанный текст частями, но слова на границе блоков могут быть распознаны некорректно\n",
        "    data = wf.readframes(read_block_size)\n",
        "    if len(data) == 0:\n",
        "        break\n",
        "\n",
        "    if rec.AcceptWaveform(data):\n",
        "        res = json.loads(rec.Result())\n",
        "\n",
        "        if res['text'] != '':\n",
        "            result += f\" {res['text']}\"\n",
        "            if read_block_size < 200000:\n",
        "                print(res['text'] + \" \\n\")\n",
        "\n",
        "            last_n = False\n",
        "        elif not last_n:\n",
        "            result += '\\n'\n",
        "            last_n = True\n",
        "\n",
        "res = json.loads(rec.FinalResult())\n",
        "result += f\" {res['text']}\"\n",
        "\n",
        "print('\\n'.join(line.strip() for line in re.findall(r'.{1,150}(?:\\s+|$)', result)))"
      ],
      "metadata": {
        "colab": {
          "base_uri": "https://localhost:8080/"
        },
        "id": "2DKEcWT0urYm",
        "outputId": "b9adeb13-fdb1-4519-b7d4-bb20e94425a7"
      },
      "execution_count": null,
      "outputs": [
        {
          "output_type": "stream",
          "name": "stdout",
          "text": [
            "родители мне говорит иди вот у нас семейное наше дело это юриспруденция иди по станет что же юристом все схвачено ну одна из таких модели от меня я\n",
            "помню одноклассник был такой вся семья юристы и ему тоже говорят юрис брат у него старший юрист ещё кто-то там даче часто сталкер встречается же а вот\n",
            "хочется другого вот что бы ты посоветовал как бы ты чтобы молодое поколение могла бы как ты себя все-таки проявить это очень сложная конечно же тему\n",
            "потому что эта тема именно детско родительских отношений насколько он родители очень тяжело переделать очень тяжело и им внушить либо в принципе\n",
            "прихоть какие-то новые взгляды новой мировоззрение и так как наши родители любят нас опекать нита делать не со зла конечно же они считает что они\n",
            "выбирать нас лучший путь путь безопасный но при этом мы так можем не считаете конечно же эта история очень большая очень обширная то есть это\n",
            "разговора с родителями должны быть если не помогает разговоры просто то я очень совету сходите к психологу или психотерапевту на семейная психотерапия\n",
            "чтобы из мама разговаривала с психологом и ребёнок разговаривал с психологами чтобы найти компромисса чтобы вот именно проработать эту проблему все\n",
            "вместе потому что порой действительно не хватает собственных сил у человека чтобы ам тип парировать сотру\n"
          ]
        }
      ]
    },
    {
      "cell_type": "markdown",
      "source": [
        "Задание 2"
      ],
      "metadata": {
        "id": "qwO4PBvo0SSC"
      }
    },
    {
      "cell_type": "code",
      "source": [
        "from vosk import Model, KaldiRecognizer, SpkModel\n",
        "import numpy as np\n",
        "import IPython\n",
        "spk_model_path = workdir + \"/vosk-model-spk-0.4\"\n",
        "spk_model = SpkModel(spk_model_path)"
      ],
      "metadata": {
        "id": "wLPqH_sn0Ub4"
      },
      "execution_count": null,
      "outputs": []
    },
    {
      "cell_type": "code",
      "source": [
        "spk_sig = [-0.4779335, 1.0310115, 0.3929685, 0.350097, -1.0987385, 0.3139515, 0.7412915, -0.399767, 0.6884295, 0.05702249999999999, 0.9954355, -0.42595450000000007, 0.41426250000000003, -1.1771435000000001, 0.42770450000000004, -0.1136915, -0.239806, 1.248802, 0.25743099999999997, -2.0608905, -0.7643850000000001, 1.009952, 1.48887, -0.12058500000000001, 0.1772815, 1.6751785, 0.28088500000000005, -0.742899, 0.8637575, 0.052765000000000006, -0.25170549999999997, -2.0178275, -0.365607, -0.526026, 0.47194, 0.3100755, -0.42708599999999997, -0.18562700000000004, -0.791108, 0.04890999999999998, 0.30571550000000003, 0.3378115, 0.0273305, 0.24092599999999997, -0.23525999999999997, 0.6111439999999999, -0.5912595, -1.2758245, 2.8376020000000004, -0.582723, -0.3293885, 1.8155549999999998, 0.5897045, 0.643032, 0.4705915, -0.9410245, 0.5045489999999999, 0.4526535, 1.079049, 1.3112045, 0.48871549999999997, 0.3341095, 1.2235275, 0.210591, -1.7644465, -0.14662899999999998, -0.02749950000000001, 2.686674, 0.39794799999999997, 0.4207765, 1.094989, 0.064714, -1.2947410000000001, 0.15579750000000003, 1.388692, 1.4787965, -1.3188005, -0.8635505, 1.264121, -0.12990649999999998, -0.16306299999999999, -0.8725244999999999, -1.2326515, -1.0516775, -0.1838555, 0.68041, -1.314712, 0.548579, -0.3695265, 0.9375035, 0.5387675000000001, 0.18652549999999998, -0.632714, -0.20884399999999997, -0.264656, 0.29892050000000003, 0.051900500000000016, 0.517109, -1.088812, 1.7103005, -0.81854, -0.4614105, 0.8121535, -0.943463, 0.5921179999999999, 0.858614, 0.6105855, 1.0459605, -1.3105705, -0.258101, -0.491104, 0.5019525, 0.7797315, -0.871487, -0.08973150000000002, 0.2509965, -0.64927, -0.5298285, -0.163278, 0.1504675, -1.498074, 0.120592, -0.08534400000000003, -0.8786075, -2.1560984999999997, 0.3081895, -0.76447, -0.6179049999999999]\n",
        "#spk_sig = [0.015037, -1.569131, 1.565085, 0.037594, -1.180075, 0.792058, 0.378117, -0.836999, 1.086757, 0.362309, 1.131595, 0.356608, -0.519972, -2.043855, -0.909071, -0.549408, 0.339199, -1.712775, 1.551406, -1.275741, -1.265814, 1.316903, 0.146369, -1.091215, -0.010519, 1.21969, 0.626599, -1.656336, 1.346495, -0.290275, -0.78647, -0.849199, -2.036534, -0.158235, 0.063395, 0.762634, 1.829232, 1.025854, -0.087997, -0.446041, -0.123127, -0.585856, 1.250297, -0.020265, -0.83869, 1.026731, -1.376961, -1.065358, 1.486788, -0.513597, -0.595961, 0.630544, -0.949525, -1.067533, -1.056629, -0.656279, -0.22994, -0.739611, -0.607522, -1.296319, 1.669142, -0.35304, 1.880812, -0.042089, -2.128569, -1.007221, -0.029565, 0.557017, 0.489502, 1.543363, 0.56421, 0.573106, 0.368854, 0.180343, 1.301341, 0.253231, -0.25023, -0.705316, 3.080164, -0.724111, -1.450011, -1.663214, -0.797009, -0.084628, -0.61465, 0.58116, -0.82122, 1.661407, -0.243246, -0.715256, -0.267731, -0.352506, -0.581067, -0.709467, 0.729116, 0.546036, -1.257413, 0.412971, 0.369551, 0.727833, -1.081771, -1.039534, -0.570486, -0.182308, -0.681984, -1.286069, 0.741872, 0.048776, 0.961261, -0.964822, -1.083076, -0.394227, 0.994579, -1.783368, 0.144415, -0.226496, -0.627126, 0.701947, -2.033273, 0.986346, -1.050189, 1.247579, -0.074595, 0.317497, -0.393155, -0.594651, -0.258251, -1.505394]\n",
        "def cosine_dist(x, y):\n",
        "    nx = np.array(x)\n",
        "    ny = np.array(y)\n",
        "    return 1 - np.dot(nx, ny) / np.linalg.norm(nx) / np.linalg.norm(ny)"
      ],
      "metadata": {
        "id": "Y-lkuYYG2gZJ"
      },
      "execution_count": null,
      "outputs": []
    },
    {
      "cell_type": "code",
      "source": [
        "rec = KaldiRecognizer(model, wf.getframerate() * wf.getnchannels(), spk_model)\n",
        "#rec = KaldiRecognizer(model, wf.getframerate() * wf.getnchannels())\n",
        "rec.SetSpkModel(spk_model)\n",
        "final_text, prev_speaker = ['-1:'], 1\n",
        "#res={};\n",
        "wf.rewind()\n",
        "#while True:\n",
        "for i in range(1080):\n",
        "    data = wf.readframes(4000)\n",
        "    datalen=len(data);\n",
        "    if datalen == 0:\n",
        "        res = json.loads(rec.FinalResult())\n",
        "    if rec.AcceptWaveform(data):\n",
        "        res = json.loads(rec.Result())\n",
        "        #print (\"Text:\", res['text'])\n",
        "        if 'spk' in res:\n",
        "            if cosine_dist(spk_sig, res['spk']) < 0.12:\n",
        "                if prev_speaker == 1:\n",
        "                    final_text[-1] += ' ' + res['text']\n",
        "                else:\n",
        "                    final_text.append(f'-1: ' + res['text'])\n",
        "                prev_speaker = 1\n",
        "            else:\n",
        "                if prev_speaker == 2:\n",
        "                    final_text[-1] += ' ' + res['text']\n",
        "                else:\n",
        "                    final_text.append(f'-2: ' + res['text'])\n",
        "                prev_speaker = 2\n",
        "        # if 'spk' in res:\n",
        "        #     print (\"X-vector:\", res['spk'])\n",
        "        #     print (\"Speaker distance:\", cosine_dist(spk_sig, res['spk']), end=' ')\n",
        "        #     print (\"based on frames:\", res['spk_frames'])\n",
        "    if datalen == 0:\n",
        "        break\n",
        "print(final_text[0])\n",
        "print(final_text[1])\n",
        "#Note that second distance is not very reliable because utterance is too short. Utterances longer than 4 seconds give better xvector"
      ],
      "metadata": {
        "colab": {
          "base_uri": "https://localhost:8080/"
        },
        "id": "DRYAzo9l2sMF",
        "outputId": "d03fc469-d14b-4323-ca39-b881a2886ae5"
      },
      "execution_count": null,
      "outputs": [
        {
          "output_type": "stream",
          "name": "stdout",
          "text": [
            "-1: родители мне говорит иди вот у нас семейное наше дело это юриспруденция иди по станет что же юристом все схвачено ну одна из таких модели от меня я помню одноклассник был такой вся семья юристы и ему тоже говорят юрис брат у него старший юрист ещё кто-то там даче часто сталкер встречается же а вот хочется другого вот что бы ты посоветовал как бы ты чтобы молодое поколение могла бы как ты себя все-таки проявить\n",
            "-2: это очень сложная конечно же тему потому что эта тема именно детско родительских отношений насколько он родители очень тяжело переделать очень тяжело и им внушить либо в принципе прихоть какие-то новые взгляды новой мировоззрение и а так как наши родители любят нас опекать нита делать не со зла конечно же они считает что то они выбирать нас лучший путь путь безопасный но при этом мы так можем не считаете конечно же эта история очень большая очень обширная то есть это разговора с родителями должны быть если не помогает разговоры просто то я очень совету сходите к психологу или психотерапевту на семейный психотерапевт чтобы из мама разговаривала с психологом и ребёнок разговаривал с психологами чтобы найти компромисса чтобы вот именно проработать эту проблему все вместе потому что порой действительно не хватает собственных сил у человека чтобы ам\n"
          ]
        }
      ]
    },
    {
      "cell_type": "code",
      "source": [
        "list1 = [-0.344843, 1.090602, 0.833264, 0.469079, -1.060049, 0.155758, 0.852515, -0.359913, 0.414278, 0.314951, 1.38195, 0.185877, 0.990195, -1.512712, 0.352311, 0.275475, -0.240441, 1.12841, 0.284242, -2.303048, -0.613809, 1.161638, 1.284073, -0.244072, -0.298955, 1.49417, -0.53331, -0.68037, 0.959594, -0.576604, -0.470085, -1.625091, 0.322905, -1.400947, 0.74128, 0.33849, -0.716282, -0.537105, -0.998526, 0.27734, 0.150273, 0.192707, -0.054936, -0.026865, -0.21677, 0.600161, -0.795313, -0.848852, 2.542943, -0.607941, -0.471093, 2.45612, 0.241046, 0.847753, 0.870652, -0.547042, -0.255122, 0.679006, 0.475688, 1.387254, 0.604756, 0.622144, 0.856326, -0.373677, -2.344104, 0.440649, -0.348007, 3.413653, -0.102562, 0.056916, 1.965118, -0.753474, -1.572769, 1.109736, 0.797414, 1.196869, -1.167754, -0.195843, 0.807957, -0.430868, -0.024252, -0.448179, -1.093412, -0.776576, -0.737851, 2.073454, -1.046077, 0.618742, -0.181823, 0.335593, 0.619878, 0.393597, -0.415927, 0.282505, 0.457921, -0.770564, 0.713504, 0.227419, -1.800957, 1.494343, -1.096465, -0.987042, 1.291232, -1.05187, 1.276133, 1.33677, 0.791225, -0.029976, -2.048576, -0.58745, -0.831164, -0.285259, 1.408137, -0.39014, -0.524831, 0.558625, -0.144304, 0.143958, -0.657869, -0.138034, -1.795549, 0.05162, 0.794874, -0.856018, -2.545381, 0.228521, -0.391839, 0.527867]\n",
        "list2 = [-0.611024, 0.971421, -0.047327, 0.231115, -1.137428, 0.472145, 0.630068, -0.439621, 0.962581, -0.200906, 0.608921, -1.037786, -0.16167, -0.841575, 0.503098, -0.502858, -0.239171, 1.369194, 0.23062, -1.818733, -0.914961, 0.858266, 1.693667, 0.002902, 0.653518, 1.856187, 1.09508, -0.805428, 0.767921, 0.682134, -0.033326, -2.410564, -1.054119, 0.348895, 0.2026, 0.281661, -0.13789, 0.165851, -0.58369, -0.17952, 0.461158, 0.482916, 0.109597, 0.508717, -0.25375, 0.622127, -0.387206, -1.702797, 3.132261, -0.557505, -0.187684, 1.17499, 0.938363, 0.438311, 0.070531, -1.335007, 1.26422, 0.226301, 1.68241, 1.235155, 0.372675, 0.046075, 1.590729, 0.794859, -1.184789, -0.733907, 0.293008, 1.959695, 0.898458, 0.784637, 0.22486, 0.882902, -1.016713, -0.798141, 1.97997, 1.760724, -1.469847, -1.531258, 1.720285, 0.171055, -0.301874, -1.29687, -1.371891, -1.326779, 0.37014, -0.712634, -1.583347, 0.478416, -0.55723, 1.539414, 0.457657, -0.020546, -0.849501, -0.700193, -0.987233, 1.368405, -0.609703, 0.806799, -0.376667, 1.926258, -0.540615, 0.064221, 0.333075, -0.835056, -0.091897, 0.380458, 0.429946, 2.121897, -0.572565, 0.071248, -0.151044, 1.289164, 0.151326, -1.352834, 0.345368, -0.056632, -1.154236, -1.203615, 0.331313, 0.438969, -1.200599, 0.189564, -0.965562, -0.901197, -1.766816, 0.387858, -1.137101, -1.763677]\n",
        "vec1 = np.array(list1)\n",
        "vec2 = np.array(list2)\n",
        "vec_add = vec1+vec2\n",
        "vec_add = vec_add.tolist()\n",
        "B = [float(i)/2 for i in vec_add]\n",
        "print(B)"
      ],
      "metadata": {
        "colab": {
          "base_uri": "https://localhost:8080/"
        },
        "id": "1acemEFu7j1z",
        "outputId": "44f348ab-1414-4537-c0b0-54be7d5fed35"
      },
      "execution_count": null,
      "outputs": [
        {
          "output_type": "stream",
          "name": "stdout",
          "text": [
            "[-0.4779335, 1.0310115, 0.3929685, 0.350097, -1.0987385, 0.3139515, 0.7412915, -0.399767, 0.6884295, 0.05702249999999999, 0.9954355, -0.42595450000000007, 0.41426250000000003, -1.1771435000000001, 0.42770450000000004, -0.1136915, -0.239806, 1.248802, 0.25743099999999997, -2.0608905, -0.7643850000000001, 1.009952, 1.48887, -0.12058500000000001, 0.1772815, 1.6751785, 0.28088500000000005, -0.742899, 0.8637575, 0.052765000000000006, -0.25170549999999997, -2.0178275, -0.365607, -0.526026, 0.47194, 0.3100755, -0.42708599999999997, -0.18562700000000004, -0.791108, 0.04890999999999998, 0.30571550000000003, 0.3378115, 0.0273305, 0.24092599999999997, -0.23525999999999997, 0.6111439999999999, -0.5912595, -1.2758245, 2.8376020000000004, -0.582723, -0.3293885, 1.8155549999999998, 0.5897045, 0.643032, 0.4705915, -0.9410245, 0.5045489999999999, 0.4526535, 1.079049, 1.3112045, 0.48871549999999997, 0.3341095, 1.2235275, 0.210591, -1.7644465, -0.14662899999999998, -0.02749950000000001, 2.686674, 0.39794799999999997, 0.4207765, 1.094989, 0.064714, -1.2947410000000001, 0.15579750000000003, 1.388692, 1.4787965, -1.3188005, -0.8635505, 1.264121, -0.12990649999999998, -0.16306299999999999, -0.8725244999999999, -1.2326515, -1.0516775, -0.1838555, 0.68041, -1.314712, 0.548579, -0.3695265, 0.9375035, 0.5387675000000001, 0.18652549999999998, -0.632714, -0.20884399999999997, -0.264656, 0.29892050000000003, 0.051900500000000016, 0.517109, -1.088812, 1.7103005, -0.81854, -0.4614105, 0.8121535, -0.943463, 0.5921179999999999, 0.858614, 0.6105855, 1.0459605, -1.3105705, -0.258101, -0.491104, 0.5019525, 0.7797315, -0.871487, -0.08973150000000002, 0.2509965, -0.64927, -0.5298285, -0.163278, 0.1504675, -1.498074, 0.120592, -0.08534400000000003, -0.8786075, -2.1560984999999997, 0.3081895, -0.76447, -0.6179049999999999]\n"
          ]
        }
      ]
    },
    {
      "cell_type": "code",
      "source": [],
      "metadata": {
        "id": "w0Z6cz1wAUh6"
      },
      "execution_count": null,
      "outputs": []
    },
    {
      "cell_type": "code",
      "source": [
        "import sys\n",
        "import time\n",
        "sys.path.append('drive/MyDrive/colab_data/speech/vosk-recasepunc-ru-0.22')\n",
        "!pip install transformers\n",
        "from transformers import logging\n",
        "from recasepunc import CasePuncPredictor\n",
        "from recasepunc import WordpieceTokenizer\n",
        "from recasepunc import Config\n",
        "\n",
        "logging.set_verbosity_error()\n",
        "predictor = CasePuncPredictor('drive/MyDrive/colab_data/speech/vosk-recasepunc-ru-0.22/checkpoint', lang=\"ru\")\n",
        "\n",
        "text = \" \".join(final_text)\n",
        "tokens = list(enumerate(predictor.tokenize(text)))\n",
        "\n",
        "#из example.py модуля recasepunc\n",
        "results = \"\"\n",
        "for token, case_label, punc_label in predictor.predict(tokens, lambda x: x[1]):\n",
        "    prediction = predictor.map_punc_label(predictor.map_case_label(token[1], case_label), punc_label)\n",
        "    if token[1][0] != '#':\n",
        "       results = results + ' ' + prediction\n",
        "    else:\n",
        "       results = results + prediction\n",
        "\n",
        "results = results.strip()\n",
        "results = results.split('-')\n",
        "ans = []\n",
        "for a in results:\n",
        "    a = '' + a\n",
        "    i = 0\n",
        "    while i < len(a) and len(a) > 7:\n",
        "        space_counter, j = 0, i\n",
        "        while space_counter != 13 and i < len(a):\n",
        "            if a[i] == ' ':\n",
        "                space_counter += 1\n",
        "            i += 1\n",
        "\n",
        "        ans.append(a[j:i])\n",
        "\n",
        "\n",
        "print('\\n'.join(ans))\n"
      ],
      "metadata": {
        "colab": {
          "base_uri": "https://localhost:8080/"
        },
        "id": "3bZWlIG5AVJj",
        "outputId": "f4d6350f-0c32-4d5c-d410-e6ed0e26cfa8"
      },
      "execution_count": null,
      "outputs": [
        {
          "output_type": "stream",
          "name": "stdout",
          "text": [
            "Looking in indexes: https://pypi.org/simple, https://us-python.pkg.dev/colab-wheels/public/simple/\n",
            "Requirement already satisfied: transformers in /usr/local/lib/python3.10/dist-packages (4.29.2)\n",
            "Requirement already satisfied: filelock in /usr/local/lib/python3.10/dist-packages (from transformers) (3.12.0)\n",
            "Requirement already satisfied: huggingface-hub<1.0,>=0.14.1 in /usr/local/lib/python3.10/dist-packages (from transformers) (0.15.1)\n",
            "Requirement already satisfied: numpy>=1.17 in /usr/local/lib/python3.10/dist-packages (from transformers) (1.22.4)\n",
            "Requirement already satisfied: packaging>=20.0 in /usr/local/lib/python3.10/dist-packages (from transformers) (23.1)\n",
            "Requirement already satisfied: pyyaml>=5.1 in /usr/local/lib/python3.10/dist-packages (from transformers) (6.0)\n",
            "Requirement already satisfied: regex!=2019.12.17 in /usr/local/lib/python3.10/dist-packages (from transformers) (2022.10.31)\n",
            "Requirement already satisfied: requests in /usr/local/lib/python3.10/dist-packages (from transformers) (2.27.1)\n",
            "Requirement already satisfied: tokenizers!=0.11.3,<0.14,>=0.11.1 in /usr/local/lib/python3.10/dist-packages (from transformers) (0.13.3)\n",
            "Requirement already satisfied: tqdm>=4.27 in /usr/local/lib/python3.10/dist-packages (from transformers) (4.65.0)\n",
            "Requirement already satisfied: fsspec in /usr/local/lib/python3.10/dist-packages (from huggingface-hub<1.0,>=0.14.1->transformers) (2023.4.0)\n",
            "Requirement already satisfied: typing-extensions>=3.7.4.3 in /usr/local/lib/python3.10/dist-packages (from huggingface-hub<1.0,>=0.14.1->transformers) (4.5.0)\n",
            "Requirement already satisfied: urllib3<1.27,>=1.21.1 in /usr/local/lib/python3.10/dist-packages (from requests->transformers) (1.26.15)\n",
            "Requirement already satisfied: certifi>=2017.4.17 in /usr/local/lib/python3.10/dist-packages (from requests->transformers) (2022.12.7)\n",
            "Requirement already satisfied: charset-normalizer~=2.0.0 in /usr/local/lib/python3.10/dist-packages (from requests->transformers) (2.0.12)\n",
            "Requirement already satisfied: idna<4,>=2.5 in /usr/local/lib/python3.10/dist-packages (from requests->transformers) (3.4)\n",
            " 1 : родители мне говорит иди вот у нас семейное наше дело \n",
            "это юриспруденция, иди по станет. Что же юристом все схвачено. Ну одна из \n",
            "таких модели от меня я помню одноклассник был такой, вся семья юристы, и \n",
            "ему тоже говорят юрис брат у него старший юрист, ещё кто \n",
            " то там даче часто сталкер встречается же, а вот хочется другого. Вот \n",
            "что бы ты посоветовал, как бы ты, чтобы молодое поколение могла бы как \n",
            "ты себя все \n",
            " таки проявить. \n",
            " 2 : это очень сложная, конечно же, тему, потому что эта тема \n",
            "именно детско родительских отношений, насколько он родители очень тяжело переделать, очень тяжело и \n",
            "им внушить. Либо в принципе прихоть, какие \n",
            " то новые взгляды, новой мировоззрение и. А так как наши родители любят \n",
            "нас опекать, нита делать не со зла, конечно же, они считает что то \n",
            "они выбирать нас лучший путь, путь безопасный, но при этом мы так можем \n",
            "не считаете. Конечно же, эта история очень большая, очень обширная, то есть это \n",
            "разговора с родителями должны быть. Если не помогает разговоры просто, то я очень \n",
            "совету сходите к психологу или психотерапевту на семейный психотерапевт, чтобы из мама разговаривала \n",
            "с психологом и ребёнок разговаривал с психологами, чтобы найти компромисса, чтобы вот именно \n",
            "проработать эту проблему все вместе, потому что порой действительно не хватает собственных сил \n",
            "у человека, чтобы ам.\n"
          ]
        }
      ]
    }
  ]
}